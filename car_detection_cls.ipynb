{
  "nbformat": 4,
  "nbformat_minor": 0,
  "metadata": {
    "colab": {
      "name": "car detection cls.ipynb",
      "provenance": [],
      "collapsed_sections": []
    },
    "kernelspec": {
      "name": "python3",
      "display_name": "Python 3"
    },
    "language_info": {
      "name": "python"
    },
    "accelerator": "GPU",
    "gpuClass": "standard"
  },
  "cells": [
    {
      "cell_type": "code",
      "execution_count": null,
      "metadata": {
        "id": "GkNRPD4knxKh"
      },
      "outputs": [],
      "source": [
        "import cv2\n",
        "import numpy as np\n",
        "import pandas as pd\n",
        "import glob\n",
        "import os\n",
        "import shutil\n",
        "\n",
        "import matplotlib.pyplot as plt\n",
        "import PIL\n",
        "import tensorflow as tf\n",
        "\n",
        "from tensorflow import keras\n",
        "from tensorflow.keras import layers\n",
        "from tensorflow.keras.models import Sequential\n",
        "from keras.preprocessing.image import ImageDataGenerator\n",
        "import tensorflow_hub as hub"
      ]
    },
    {
      "cell_type": "code",
      "source": [
        "!cp /content/drive/MyDrive/python_split_image_by_ch.zip ."
      ],
      "metadata": {
        "id": "VltIymZ08lx-"
      },
      "execution_count": null,
      "outputs": []
    },
    {
      "cell_type": "code",
      "source": [
        "!unzip /content/python_split_image_by_ch.zip"
      ],
      "metadata": {
        "id": "MwfTPiZH53Gn",
        "colab": {
          "base_uri": "https://localhost:8080/"
        },
        "outputId": "011e0f8b-eeed-4b14-f6a9-943ecc96d122"
      },
      "execution_count": null,
      "outputs": [
        {
          "output_type": "stream",
          "name": "stdout",
          "text": [
            "Archive:  /content/python_split_image_by_ch.zip\n",
            "   creating: data/\n",
            "  inflating: data/00001_b.jpg        \n",
            "  inflating: data/00001_g.jpg        \n",
            "  inflating: data/00001_r.jpg        \n",
            " extracting: data/00002_b.jpg        \n",
            " extracting: data/00002_g.jpg        \n",
            " extracting: data/00002_r.jpg        \n",
            "  inflating: data/00003_b.jpg        \n",
            "  inflating: data/00003_g.jpg        \n",
            "  inflating: data/00003_r.jpg        \n",
            "  inflating: data/00004_b.jpg        \n",
            "  inflating: data/00004_g.jpg        \n",
            "  inflating: data/00004_r.jpg        \n",
            "  inflating: data/00005_b.jpg        \n",
            "  inflating: data/00005_g.jpg        \n",
            "  inflating: data/00005_r.jpg        \n",
            "  inflating: data/00006_b.jpg        \n",
            "  inflating: data/00006_g.jpg        \n",
            "  inflating: data/00006_r.jpg        \n",
            "  inflating: data/00007_b.jpg        \n",
            "  inflating: data/00007_g.jpg        \n",
            "  inflating: data/00007_r.jpg        \n",
            "  inflating: data/00008_b.jpg        \n",
            "  inflating: data/00008_g.jpg        \n",
            "  inflating: data/00008_r.jpg        \n",
            "  inflating: data/00009_b.jpg        \n",
            "  inflating: data/00009_g.jpg        \n",
            "  inflating: data/00009_r.jpg        \n",
            "  inflating: data/00010_b.jpg        \n",
            "  inflating: data/00010_g.jpg        \n",
            "  inflating: data/00010_r.jpg        \n",
            "  inflating: data/00011_b.jpg        \n",
            "  inflating: data/00011_g.jpg        \n",
            "  inflating: data/00011_r.jpg        \n",
            "  inflating: data/00012_b.jpg        \n",
            "  inflating: data/00012_g.jpg        \n",
            "  inflating: data/00012_r.jpg        \n",
            "  inflating: data/00013_b.jpg        \n",
            "  inflating: data/00013_g.jpg        \n",
            "  inflating: data/00013_r.jpg        \n",
            "  inflating: data/00014_b.jpg        \n",
            "  inflating: data/00014_g.jpg        \n",
            "  inflating: data/00014_r.jpg        \n",
            "  inflating: data/00015_b.jpg        \n",
            "  inflating: data/00015_g.jpg        \n",
            "  inflating: data/00015_r.jpg        \n",
            "  inflating: data/00016_b.jpg        \n",
            "  inflating: data/00016_g.jpg        \n",
            "  inflating: data/00016_r.jpg        \n",
            "  inflating: data/00017_b.jpg        \n",
            "  inflating: data/00017_g.jpg        \n",
            "  inflating: data/00017_r.jpg        \n",
            "  inflating: data/00018_b.jpg        \n",
            "  inflating: data/00018_g.jpg        \n",
            "  inflating: data/00018_r.jpg        \n",
            "  inflating: data/00019_b.jpg        \n",
            "  inflating: data/00019_g.jpg        \n",
            "  inflating: data/00019_r.jpg        \n",
            " extracting: data/00020_b.jpg        \n",
            "  inflating: data/00020_g.jpg        \n",
            " extracting: data/00020_r.jpg        \n",
            "  inflating: data/00021_b.jpg        \n",
            "  inflating: data/00021_g.jpg        \n",
            "  inflating: data/00021_r.jpg        \n",
            "  inflating: data/00022_b.jpg        \n",
            "  inflating: data/00022_g.jpg        \n",
            "  inflating: data/00022_r.jpg        \n",
            "  inflating: data/00023_b.jpg        \n",
            "  inflating: data/00023_g.jpg        \n",
            "  inflating: data/00023_r.jpg        \n",
            "  inflating: data/00024_b.jpg        \n",
            "  inflating: data/00024_g.jpg        \n",
            "  inflating: data/00024_r.jpg        \n",
            " extracting: data/00025_b.jpg        \n",
            " extracting: data/00025_g.jpg        \n",
            " extracting: data/00025_r.jpg        \n",
            "  inflating: data/00026_b.jpg        \n",
            "  inflating: data/00026_g.jpg        \n",
            "  inflating: data/00026_r.jpg        \n",
            "  inflating: data/00027_b.jpg        \n",
            "  inflating: data/00027_g.jpg        \n",
            "  inflating: data/00027_r.jpg        \n",
            "  inflating: data/00028_b.jpg        \n",
            "  inflating: data/00028_g.jpg        \n",
            "  inflating: data/00028_r.jpg        \n",
            "  inflating: data/00029_b.jpg        \n",
            "  inflating: data/00029_g.jpg        \n",
            "  inflating: data/00029_r.jpg        \n",
            "  inflating: data/00030_b.jpg        \n",
            "  inflating: data/00030_g.jpg        \n",
            "  inflating: data/00030_r.jpg        \n",
            "  inflating: data/00031_b.jpg        \n",
            "  inflating: data/00031_g.jpg        \n",
            " extracting: data/00031_r.jpg        \n",
            "  inflating: data/00032_b.jpg        \n",
            "  inflating: data/00032_g.jpg        \n",
            "  inflating: data/00032_r.jpg        \n",
            "  inflating: data/00033_b.jpg        \n",
            "  inflating: data/00033_g.jpg        \n",
            "  inflating: data/00033_r.jpg        \n",
            "  inflating: data/00034_b.jpg        \n",
            "  inflating: data/00034_g.jpg        \n",
            "  inflating: data/00034_r.jpg        \n",
            "  inflating: data/00035_b.jpg        \n",
            "  inflating: data/00035_g.jpg        \n",
            "  inflating: data/00035_r.jpg        \n",
            "  inflating: data/00036_b.jpg        \n",
            "  inflating: data/00036_g.jpg        \n",
            "  inflating: data/00036_r.jpg        \n",
            "  inflating: data/00037_b.jpg        \n",
            "  inflating: data/00037_g.jpg        \n",
            "  inflating: data/00037_r.jpg        \n",
            "  inflating: data/00038_b.jpg        \n",
            "  inflating: data/00038_g.jpg        \n",
            "  inflating: data/00038_r.jpg        \n",
            "  inflating: data/00039_b.jpg        \n",
            "  inflating: data/00039_g.jpg        \n",
            "  inflating: data/00039_r.jpg        \n",
            "  inflating: data/00040_b.jpg        \n",
            "  inflating: data/00040_g.jpg        \n",
            "  inflating: data/00040_r.jpg        \n",
            " extracting: data/00041_b.jpg        \n",
            " extracting: data/00041_g.jpg        \n",
            " extracting: data/00041_r.jpg        \n",
            "  inflating: data/00042_b.jpg        \n",
            "  inflating: data/00042_g.jpg        \n",
            "  inflating: data/00042_r.jpg        \n",
            " extracting: data/00043_b.jpg        \n",
            " extracting: data/00043_g.jpg        \n",
            " extracting: data/00043_r.jpg        \n",
            " extracting: data/00044_b.jpg        \n",
            " extracting: data/00044_g.jpg        \n",
            " extracting: data/00044_r.jpg        \n",
            "  inflating: data/00045_b.jpg        \n",
            "  inflating: data/00045_g.jpg        \n",
            "  inflating: data/00045_r.jpg        \n",
            "  inflating: data/00046_b.jpg        \n",
            "  inflating: data/00046_g.jpg        \n",
            "  inflating: data/00046_r.jpg        \n",
            "  inflating: data/00047_b.jpg        \n",
            "  inflating: data/00047_g.jpg        \n",
            "  inflating: data/00047_r.jpg        \n",
            "  inflating: data/00048_b.jpg        \n",
            "  inflating: data/00048_g.jpg        \n",
            "  inflating: data/00048_r.jpg        \n",
            "  inflating: data/00049_b.jpg        \n",
            "  inflating: data/00049_g.jpg        \n",
            "  inflating: data/00049_r.jpg        \n",
            "  inflating: data/00050_b.jpg        \n",
            "  inflating: data/00050_g.jpg        \n",
            "  inflating: data/00050_r.jpg        \n",
            "  inflating: data/00051_b.jpg        \n",
            "  inflating: data/00051_g.jpg        \n",
            "  inflating: data/00051_r.jpg        \n",
            "  inflating: data/00052_b.jpg        \n",
            "  inflating: data/00052_g.jpg        \n",
            "  inflating: data/00052_r.jpg        \n",
            "  inflating: data/00053_b.jpg        \n",
            "  inflating: data/00053_g.jpg        \n",
            "  inflating: data/00053_r.jpg        \n",
            "  inflating: data/00054_b.jpg        \n",
            "  inflating: data/00054_g.jpg        \n",
            "  inflating: data/00054_r.jpg        \n",
            "  inflating: data/00055_b.jpg        \n",
            "  inflating: data/00055_g.jpg        \n",
            "  inflating: data/00055_r.jpg        \n",
            "  inflating: data/00056_b.jpg        \n",
            "  inflating: data/00056_g.jpg        \n",
            "  inflating: data/00056_r.jpg        \n",
            "  inflating: data/00057_b.jpg        \n",
            "  inflating: data/00057_g.jpg        \n",
            "  inflating: data/00057_r.jpg        \n",
            "  inflating: data/00058_b.jpg        \n",
            "  inflating: data/00058_g.jpg        \n",
            "  inflating: data/00058_r.jpg        \n",
            " extracting: data/00059_b.jpg        \n",
            "  inflating: data/00059_g.jpg        \n",
            "  inflating: data/00059_r.jpg        \n",
            "  inflating: data/00060_b.jpg        \n",
            "  inflating: data/00060_g.jpg        \n",
            "  inflating: data/00060_r.jpg        \n",
            "  inflating: data/00061_b.jpg        \n",
            "  inflating: data/00061_g.jpg        \n",
            "  inflating: data/00061_r.jpg        \n",
            "  inflating: data/00062_b.jpg        \n",
            "  inflating: data/00062_g.jpg        \n",
            "  inflating: data/00062_r.jpg        \n",
            "  inflating: data/00063_b.jpg        \n",
            "  inflating: data/00063_g.jpg        \n",
            "  inflating: data/00063_r.jpg        \n",
            "  inflating: data/00064_b.jpg        \n",
            "  inflating: data/00064_g.jpg        \n",
            "  inflating: data/00064_r.jpg        \n",
            "  inflating: data/00065_b.jpg        \n",
            "  inflating: data/00065_g.jpg        \n",
            "  inflating: data/00065_r.jpg        \n",
            "  inflating: data/00066_b.jpg        \n",
            "  inflating: data/00066_g.jpg        \n",
            "  inflating: data/00066_r.jpg        \n",
            "  inflating: data/00067_b.jpg        \n",
            "  inflating: data/00067_g.jpg        \n",
            "  inflating: data/00067_r.jpg        \n",
            "  inflating: data/00068_b.jpg        \n",
            "  inflating: data/00068_g.jpg        \n",
            "  inflating: data/00068_r.jpg        \n",
            "  inflating: data/00069_b.jpg        \n",
            "  inflating: data/00069_g.jpg        \n",
            "  inflating: data/00069_r.jpg        \n",
            "  inflating: data/00070_b.jpg        \n",
            "  inflating: data/00070_g.jpg        \n",
            "  inflating: data/00070_r.jpg        \n",
            "  inflating: data/00071_b.jpg        \n",
            "  inflating: data/00071_g.jpg        \n",
            "  inflating: data/00071_r.jpg        \n",
            "  inflating: data/00072_b.jpg        \n",
            "  inflating: data/00072_g.jpg        \n",
            "  inflating: data/00072_r.jpg        \n",
            "  inflating: data/00073_b.jpg        \n",
            "  inflating: data/00073_g.jpg        \n",
            "  inflating: data/00073_r.jpg        \n",
            "  inflating: data/00074_b.jpg        \n",
            "  inflating: data/00074_g.jpg        \n",
            "  inflating: data/00074_r.jpg        \n",
            "  inflating: data/00075_b.jpg        \n",
            "  inflating: data/00075_g.jpg        \n",
            "  inflating: data/00075_r.jpg        \n",
            "  inflating: data/00076_b.jpg        \n",
            "  inflating: data/00076_g.jpg        \n",
            "  inflating: data/00076_r.jpg        \n",
            "  inflating: data/00077_b.jpg        \n",
            "  inflating: data/00077_g.jpg        \n",
            "  inflating: data/00077_r.jpg        \n",
            "  inflating: data/00078_b.jpg        \n",
            "  inflating: data/00078_g.jpg        \n",
            "  inflating: data/00078_r.jpg        \n",
            "  inflating: data/00079_b.jpg        \n",
            "  inflating: data/00079_g.jpg        \n",
            "  inflating: data/00079_r.jpg        \n",
            "  inflating: data/00080_b.jpg        \n",
            "  inflating: data/00080_g.jpg        \n",
            "  inflating: data/00080_r.jpg        \n",
            "  inflating: data/00081_b.jpg        \n",
            "  inflating: data/00081_g.jpg        \n",
            "  inflating: data/00081_r.jpg        \n",
            " extracting: data/00082_b.jpg        \n",
            " extracting: data/00082_g.jpg        \n",
            " extracting: data/00082_r.jpg        \n",
            "  inflating: data/00083_b.jpg        \n",
            "  inflating: data/00083_g.jpg        \n",
            "  inflating: data/00083_r.jpg        \n",
            "  inflating: data/00084_b.jpg        \n",
            "  inflating: data/00084_g.jpg        \n",
            "  inflating: data/00084_r.jpg        \n",
            "  inflating: data/00085_b.jpg        \n",
            "  inflating: data/00085_g.jpg        \n",
            "  inflating: data/00085_r.jpg        \n",
            "  inflating: data/00086_b.jpg        \n",
            "  inflating: data/00086_g.jpg        \n",
            "  inflating: data/00086_r.jpg        \n",
            "  inflating: data/00087_b.jpg        \n",
            "  inflating: data/00087_g.jpg        \n",
            "  inflating: data/00087_r.jpg        \n",
            "  inflating: data/00088_b.jpg        \n",
            "  inflating: data/00088_g.jpg        \n",
            "  inflating: data/00088_r.jpg        \n",
            "  inflating: data/00089_b.jpg        \n",
            "  inflating: data/00089_g.jpg        \n",
            "  inflating: data/00089_r.jpg        \n",
            "  inflating: data/00090_b.jpg        \n",
            "  inflating: data/00090_g.jpg        \n",
            "  inflating: data/00090_r.jpg        \n",
            "  inflating: data/00091_b.jpg        \n",
            "  inflating: data/00091_g.jpg        \n",
            "  inflating: data/00091_r.jpg        \n",
            "  inflating: data/00092_b.jpg        \n",
            "  inflating: data/00092_g.jpg        \n",
            "  inflating: data/00092_r.jpg        \n",
            " extracting: data/00093_b.jpg        \n",
            " extracting: data/00093_g.jpg        \n",
            " extracting: data/00093_r.jpg        \n",
            "  inflating: data/00094_b.jpg        \n",
            "  inflating: data/00094_g.jpg        \n",
            "  inflating: data/00094_r.jpg        \n",
            "  inflating: data/00095_b.jpg        \n",
            "  inflating: data/00095_g.jpg        \n",
            "  inflating: data/00095_r.jpg        \n",
            "  inflating: data/00096_b.jpg        \n",
            "  inflating: data/00096_g.jpg        \n",
            "  inflating: data/00096_r.jpg        \n",
            "  inflating: data/00097_b.jpg        \n",
            "  inflating: data/00097_g.jpg        \n",
            "  inflating: data/00097_r.jpg        \n",
            "  inflating: data/00098_b.jpg        \n",
            "  inflating: data/00098_g.jpg        \n",
            "  inflating: data/00098_r.jpg        \n",
            "  inflating: data/00099_b.jpg        \n",
            "  inflating: data/00099_g.jpg        \n",
            "  inflating: data/00099_r.jpg        \n",
            "  inflating: data/00100_b.jpg        \n",
            "  inflating: data/00100_g.jpg        \n",
            "  inflating: data/00100_r.jpg        \n",
            "  inflating: description.csv         \n",
            " extracting: image_counter.txt       \n",
            "  inflating: res.jpg                 \n",
            "  inflating: val.csv                 \n"
          ]
        }
      ]
    },
    {
      "cell_type": "markdown",
      "source": [
        "# Convert images"
      ],
      "metadata": {
        "id": "6q6ZektL7N5T"
      }
    },
    {
      "cell_type": "code",
      "source": [
        "def merge_channels(input_dir, output_dir):\n",
        "    files_list = glob.glob(input_dir+'/*')\n",
        "    files_list = sorted(files_list)\n",
        "    files_list_set = set()\n",
        "    for file in files_list:\n",
        "        files_list_set.add(file.replace('_b.jpg', '').replace('_g.jpg', '').replace('_r.jpg', ''))\n",
        "        \n",
        "    for file in files_list_set:\n",
        "        file_name = file.replace(\"\\\\\", \"/\").split('/')[-1]+'.jpg'\n",
        "        b = cv2.imread(file+'_b.jpg', cv2.IMREAD_UNCHANGED)\n",
        "        g = cv2.imread(file+'_g.jpg', cv2.IMREAD_UNCHANGED)\n",
        "        r = cv2.imread(file+'_r.jpg',cv2.IMREAD_UNCHANGED)\n",
        "\n",
        "        #     print(b.shape, g.shape, r.shape)\n",
        "\n",
        "        bgr = cv2.merge([b, g, r])\n",
        "        cv2.imwrite(output_dir+'/'+file_name, bgr)"
      ],
      "metadata": {
        "id": "GAIaFd-M50Om"
      },
      "execution_count": null,
      "outputs": []
    },
    {
      "cell_type": "code",
      "source": [
        "!mkdir  ./output\n",
        "!mkdir ./output/0\n",
        "!mkdir ./output/1"
      ],
      "metadata": {
        "colab": {
          "base_uri": "https://localhost:8080/"
        },
        "id": "mQgAmKVB9Bej",
        "outputId": "6e0c83ea-3f34-4fab-f7d5-0f2b35416a44"
      },
      "execution_count": null,
      "outputs": [
        {
          "output_type": "stream",
          "name": "stdout",
          "text": [
            "mkdir: cannot create directory ‘./output’: File exists\n"
          ]
        }
      ]
    },
    {
      "cell_type": "code",
      "source": [
        "merge_channels('./data', './output')"
      ],
      "metadata": {
        "id": "YnSxYXa852Pl"
      },
      "execution_count": null,
      "outputs": []
    },
    {
      "cell_type": "code",
      "source": [
        "val = pd.read_csv('val.csv', header=None, names=['file', 'cls'])\n",
        "for i, row in val.iterrows():\n",
        "  if row['cls'] == False:\n",
        "    shutil.copy('./output/'+ row['file'], './output/0')\n",
        "  else:\n",
        "    shutil.copy('./output/'+ row['file'], './output/1')"
      ],
      "metadata": {
        "id": "S4JMgHpl6C0f"
      },
      "execution_count": null,
      "outputs": []
    },
    {
      "cell_type": "markdown",
      "source": [
        "# Model and training"
      ],
      "metadata": {
        "id": "LZUdK8Pc7Soa"
      }
    },
    {
      "cell_type": "code",
      "source": [
        "inception_v3 = \"https://tfhub.dev/google/tf2-preview/inception_v3/feature_vector/4\"\n",
        "feature_extractor_model = inception_v3\n",
        "\n",
        "feature_extractor_layer = hub.KerasLayer(\n",
        "    feature_extractor_model,\n",
        "    input_shape=(224, 224, 3),\n",
        "    trainable=False)\n",
        "\n",
        "model = tf.keras.Sequential([\n",
        "  feature_extractor_layer,\n",
        "  tf.keras.layers.Dense(128, activation='relu'),\n",
        "  tf.keras.layers.Dense(1, activation='sigmoid')\n",
        "])\n",
        "\n",
        "model.summary()"
      ],
      "metadata": {
        "id": "UiEo9MKO65vx",
        "colab": {
          "base_uri": "https://localhost:8080/"
        },
        "outputId": "a2fbc331-7593-4b4d-c0cc-0de85cf12f02"
      },
      "execution_count": null,
      "outputs": [
        {
          "output_type": "stream",
          "name": "stdout",
          "text": [
            "Model: \"sequential_8\"\n",
            "_________________________________________________________________\n",
            " Layer (type)                Output Shape              Param #   \n",
            "=================================================================\n",
            " keras_layer_8 (KerasLayer)  (None, 2048)              21802784  \n",
            "                                                                 \n",
            " dense_11 (Dense)            (None, 128)               262272    \n",
            "                                                                 \n",
            " dense_12 (Dense)            (None, 1)                 129       \n",
            "                                                                 \n",
            "=================================================================\n",
            "Total params: 22,065,185\n",
            "Trainable params: 262,401\n",
            "Non-trainable params: 21,802,784\n",
            "_________________________________________________________________\n"
          ]
        }
      ]
    },
    {
      "cell_type": "code",
      "source": [
        "model.compile(\n",
        "  optimizer=tf.keras.optimizers.Adam(),\n",
        "  loss=tf.keras.losses.BinaryCrossentropy(from_logits=False),\n",
        "  metrics=['acc'])"
      ],
      "metadata": {
        "id": "XWSUzCxr_P5S"
      },
      "execution_count": null,
      "outputs": []
    },
    {
      "cell_type": "code",
      "source": [
        "data_dir = './output'\n",
        "train_ds = tf.keras.utils.image_dataset_from_directory(\n",
        "  data_dir,\n",
        "  seed=123,\n",
        "  image_size=(224, 224),\n",
        "  batch_size=batch_size)\n",
        "\n",
        "class_names = train_ds.class_names\n",
        "class_names\n",
        "\n",
        "AUTOTUNE = tf.data.AUTOTUNE\n",
        "train_ds = train_ds.cache().shuffle(1000).prefetch(buffer_size=AUTOTUNE)"
      ],
      "metadata": {
        "id": "V1yW70Ta65tI",
        "colab": {
          "base_uri": "https://localhost:8080/"
        },
        "outputId": "14ff19a6-03d3-4484-bcb6-2334d1a6c1c0"
      },
      "execution_count": null,
      "outputs": [
        {
          "output_type": "stream",
          "name": "stdout",
          "text": [
            "Found 100 files belonging to 2 classes.\n"
          ]
        }
      ]
    },
    {
      "cell_type": "code",
      "source": [
        "NUM_EPOCHS = 30\n",
        "history = model.fit(train_ds, epochs=NUM_EPOCHS)"
      ],
      "metadata": {
        "id": "6JQqrpZs7Vb-",
        "colab": {
          "base_uri": "https://localhost:8080/"
        },
        "outputId": "123f23d3-da6a-4424-9fe2-4d522aa5ae94"
      },
      "execution_count": null,
      "outputs": [
        {
          "output_type": "stream",
          "name": "stdout",
          "text": [
            "Epoch 1/30\n",
            "4/4 [==============================] - 58s 73ms/step - loss: 40.7670 - acc: 0.5600\n",
            "Epoch 2/30\n",
            "4/4 [==============================] - 0s 56ms/step - loss: 36.1858 - acc: 0.6000\n",
            "Epoch 3/30\n",
            "4/4 [==============================] - 0s 58ms/step - loss: 27.9889 - acc: 0.5500\n",
            "Epoch 4/30\n",
            "4/4 [==============================] - 0s 76ms/step - loss: 15.9086 - acc: 0.6300\n",
            "Epoch 5/30\n",
            "4/4 [==============================] - 0s 75ms/step - loss: 7.6759 - acc: 0.6000\n",
            "Epoch 6/30\n",
            "4/4 [==============================] - 0s 73ms/step - loss: 7.6860 - acc: 0.6900\n",
            "Epoch 7/30\n",
            "4/4 [==============================] - 0s 58ms/step - loss: 4.8492 - acc: 0.7900\n",
            "Epoch 8/30\n",
            "4/4 [==============================] - 0s 56ms/step - loss: 7.5943 - acc: 0.6500\n",
            "Epoch 9/30\n",
            "4/4 [==============================] - 0s 59ms/step - loss: 5.1950 - acc: 0.7300\n",
            "Epoch 10/30\n",
            "4/4 [==============================] - 0s 57ms/step - loss: 5.6314 - acc: 0.7500\n",
            "Epoch 11/30\n",
            "4/4 [==============================] - 0s 55ms/step - loss: 3.1022 - acc: 0.8000\n",
            "Epoch 12/30\n",
            "4/4 [==============================] - 0s 57ms/step - loss: 3.9792 - acc: 0.7700\n",
            "Epoch 13/30\n",
            "4/4 [==============================] - 0s 75ms/step - loss: 3.7756 - acc: 0.7800\n",
            "Epoch 14/30\n",
            "4/4 [==============================] - 0s 57ms/step - loss: 1.7139 - acc: 0.8400\n",
            "Epoch 15/30\n",
            "4/4 [==============================] - 0s 73ms/step - loss: 0.8853 - acc: 0.9100\n",
            "Epoch 16/30\n",
            "4/4 [==============================] - 0s 56ms/step - loss: 1.2930 - acc: 0.8700\n",
            "Epoch 17/30\n",
            "4/4 [==============================] - 0s 60ms/step - loss: 1.6907 - acc: 0.8200\n",
            "Epoch 18/30\n",
            "4/4 [==============================] - 0s 74ms/step - loss: 0.5293 - acc: 0.9100\n",
            "Epoch 19/30\n",
            "4/4 [==============================] - 0s 58ms/step - loss: 0.5415 - acc: 0.9400\n",
            "Epoch 20/30\n",
            "4/4 [==============================] - 0s 58ms/step - loss: 0.7398 - acc: 0.8800\n",
            "Epoch 21/30\n",
            "4/4 [==============================] - 0s 60ms/step - loss: 0.2213 - acc: 0.9800\n",
            "Epoch 22/30\n",
            "4/4 [==============================] - 0s 75ms/step - loss: 0.7658 - acc: 0.8900\n",
            "Epoch 23/30\n",
            "4/4 [==============================] - 0s 75ms/step - loss: 1.0191 - acc: 0.8200\n",
            "Epoch 24/30\n",
            "4/4 [==============================] - 0s 59ms/step - loss: 0.8942 - acc: 0.8600\n",
            "Epoch 25/30\n",
            "4/4 [==============================] - 0s 58ms/step - loss: 0.0930 - acc: 0.9800\n",
            "Epoch 26/30\n",
            "4/4 [==============================] - 0s 57ms/step - loss: 0.5337 - acc: 0.9200\n",
            "Epoch 27/30\n",
            "4/4 [==============================] - 0s 58ms/step - loss: 0.0545 - acc: 0.9900\n",
            "Epoch 28/30\n",
            "4/4 [==============================] - 0s 74ms/step - loss: 0.3442 - acc: 0.9400\n",
            "Epoch 29/30\n",
            "4/4 [==============================] - 0s 56ms/step - loss: 0.0113 - acc: 0.9900\n",
            "Epoch 30/30\n",
            "4/4 [==============================] - 0s 59ms/step - loss: 0.0745 - acc: 0.9600\n"
          ]
        }
      ]
    },
    {
      "cell_type": "code",
      "source": [
        "model.save('./saved_model')"
      ],
      "metadata": {
        "colab": {
          "base_uri": "https://localhost:8080/"
        },
        "id": "RugSa0iY-guQ",
        "outputId": "59be63d9-d3ce-46e3-f005-69a6280f1248"
      },
      "execution_count": null,
      "outputs": [
        {
          "output_type": "stream",
          "name": "stdout",
          "text": [
            "INFO:tensorflow:Assets written to: ./saved_model/assets\n"
          ]
        },
        {
          "output_type": "stream",
          "name": "stderr",
          "text": [
            "INFO:tensorflow:Assets written to: ./saved_model/assets\n"
          ]
        }
      ]
    },
    {
      "cell_type": "code",
      "source": [
        "!zip -r model.zip ./saved_model"
      ],
      "metadata": {
        "colab": {
          "base_uri": "https://localhost:8080/"
        },
        "id": "xeDXt_lvBMpD",
        "outputId": "5fa964b8-c890-423d-c199-575611a2ca64"
      },
      "execution_count": null,
      "outputs": [
        {
          "output_type": "stream",
          "name": "stdout",
          "text": [
            "updating: saved_model/ (stored 0%)\n",
            "updating: saved_model/keras_metadata.pb (deflated 84%)\n",
            "updating: saved_model/variables/ (stored 0%)\n",
            "updating: saved_model/variables/variables.data-00000-of-00001 (deflated 7%)\n",
            "updating: saved_model/variables/variables.index (deflated 81%)\n",
            "updating: saved_model/assets/ (stored 0%)\n",
            "updating: saved_model/assets.zip (stored 0%)\n",
            "updating: saved_model/saved_model.pb (deflated 93%)\n"
          ]
        }
      ]
    },
    {
      "cell_type": "markdown",
      "source": [
        "# Inference"
      ],
      "metadata": {
        "id": "nFF0zYhX66Ud"
      }
    },
    {
      "cell_type": "code",
      "source": [
        "!rm -r './output/0'\n",
        "!rm -r './output/1'"
      ],
      "metadata": {
        "id": "zjTzS5alCLyV"
      },
      "execution_count": null,
      "outputs": []
    },
    {
      "cell_type": "code",
      "source": [
        "from keras.models import load_model\n",
        "from keras.preprocessing import image\n",
        "\n",
        "# model = keras.models.load_model('./saved_model')\n",
        "input_dir = './output'\n",
        "file_list = glob.glob(input_dir+\"/*\")\n",
        "files = []\n",
        "\n",
        "for file in file_list:\n",
        "  file_n = file.replace(\"\\\\\", \"/\").split('/')[-1]\n",
        "  files.append(file_n)\n",
        "\n",
        "preds = []\n",
        "\n",
        "for file in file_list:\n",
        "  img = image.load_img(file, target_size=(224, 224))\n",
        "  x = image.img_to_array(img)\n",
        "  x = np.expand_dims(x, axis=0)\n",
        "  pred = model.predict(x)\n",
        "  pred_b = tf.where(pred > 0.5, 1, 0)\n",
        "  preds.append(pred_b.numpy().ravel())\n",
        "preds = np.array(preds).ravel()\n",
        "\n"
      ],
      "metadata": {
        "id": "vg3U5e8ECHPK"
      },
      "execution_count": null,
      "outputs": []
    },
    {
      "cell_type": "code",
      "source": [
        "output = pd.DataFrame({'file': files, 'pred': preds})\n",
        "output['pred'] = output['pred'].astype(bool)\n",
        "output.to_csv(\"output.csv\", index=False, header=False)"
      ],
      "metadata": {
        "colab": {
          "base_uri": "https://localhost:8080/",
          "height": 424
        },
        "id": "6qqIzxHiJu7j",
        "outputId": "ba175812-83a7-4a6d-d05d-eb134348766e"
      },
      "execution_count": null,
      "outputs": [
        {
          "output_type": "execute_result",
          "data": {
            "text/plain": [
              "         file   pred\n",
              "0   00027.jpg   True\n",
              "1   00055.jpg   True\n",
              "2   00076.jpg  False\n",
              "3   00071.jpg   True\n",
              "4   00013.jpg  False\n",
              "..        ...    ...\n",
              "95  00086.jpg   True\n",
              "96  00042.jpg   True\n",
              "97  00040.jpg  False\n",
              "98  00021.jpg  False\n",
              "99  00041.jpg  False\n",
              "\n",
              "[100 rows x 2 columns]"
            ],
            "text/html": [
              "\n",
              "  <div id=\"df-620fb83a-369f-414d-b2b9-c5aa66dc74b0\">\n",
              "    <div class=\"colab-df-container\">\n",
              "      <div>\n",
              "<style scoped>\n",
              "    .dataframe tbody tr th:only-of-type {\n",
              "        vertical-align: middle;\n",
              "    }\n",
              "\n",
              "    .dataframe tbody tr th {\n",
              "        vertical-align: top;\n",
              "    }\n",
              "\n",
              "    .dataframe thead th {\n",
              "        text-align: right;\n",
              "    }\n",
              "</style>\n",
              "<table border=\"1\" class=\"dataframe\">\n",
              "  <thead>\n",
              "    <tr style=\"text-align: right;\">\n",
              "      <th></th>\n",
              "      <th>file</th>\n",
              "      <th>pred</th>\n",
              "    </tr>\n",
              "  </thead>\n",
              "  <tbody>\n",
              "    <tr>\n",
              "      <th>0</th>\n",
              "      <td>00027.jpg</td>\n",
              "      <td>True</td>\n",
              "    </tr>\n",
              "    <tr>\n",
              "      <th>1</th>\n",
              "      <td>00055.jpg</td>\n",
              "      <td>True</td>\n",
              "    </tr>\n",
              "    <tr>\n",
              "      <th>2</th>\n",
              "      <td>00076.jpg</td>\n",
              "      <td>False</td>\n",
              "    </tr>\n",
              "    <tr>\n",
              "      <th>3</th>\n",
              "      <td>00071.jpg</td>\n",
              "      <td>True</td>\n",
              "    </tr>\n",
              "    <tr>\n",
              "      <th>4</th>\n",
              "      <td>00013.jpg</td>\n",
              "      <td>False</td>\n",
              "    </tr>\n",
              "    <tr>\n",
              "      <th>...</th>\n",
              "      <td>...</td>\n",
              "      <td>...</td>\n",
              "    </tr>\n",
              "    <tr>\n",
              "      <th>95</th>\n",
              "      <td>00086.jpg</td>\n",
              "      <td>True</td>\n",
              "    </tr>\n",
              "    <tr>\n",
              "      <th>96</th>\n",
              "      <td>00042.jpg</td>\n",
              "      <td>True</td>\n",
              "    </tr>\n",
              "    <tr>\n",
              "      <th>97</th>\n",
              "      <td>00040.jpg</td>\n",
              "      <td>False</td>\n",
              "    </tr>\n",
              "    <tr>\n",
              "      <th>98</th>\n",
              "      <td>00021.jpg</td>\n",
              "      <td>False</td>\n",
              "    </tr>\n",
              "    <tr>\n",
              "      <th>99</th>\n",
              "      <td>00041.jpg</td>\n",
              "      <td>False</td>\n",
              "    </tr>\n",
              "  </tbody>\n",
              "</table>\n",
              "<p>100 rows × 2 columns</p>\n",
              "</div>\n",
              "      <button class=\"colab-df-convert\" onclick=\"convertToInteractive('df-620fb83a-369f-414d-b2b9-c5aa66dc74b0')\"\n",
              "              title=\"Convert this dataframe to an interactive table.\"\n",
              "              style=\"display:none;\">\n",
              "        \n",
              "  <svg xmlns=\"http://www.w3.org/2000/svg\" height=\"24px\"viewBox=\"0 0 24 24\"\n",
              "       width=\"24px\">\n",
              "    <path d=\"M0 0h24v24H0V0z\" fill=\"none\"/>\n",
              "    <path d=\"M18.56 5.44l.94 2.06.94-2.06 2.06-.94-2.06-.94-.94-2.06-.94 2.06-2.06.94zm-11 1L8.5 8.5l.94-2.06 2.06-.94-2.06-.94L8.5 2.5l-.94 2.06-2.06.94zm10 10l.94 2.06.94-2.06 2.06-.94-2.06-.94-.94-2.06-.94 2.06-2.06.94z\"/><path d=\"M17.41 7.96l-1.37-1.37c-.4-.4-.92-.59-1.43-.59-.52 0-1.04.2-1.43.59L10.3 9.45l-7.72 7.72c-.78.78-.78 2.05 0 2.83L4 21.41c.39.39.9.59 1.41.59.51 0 1.02-.2 1.41-.59l7.78-7.78 2.81-2.81c.8-.78.8-2.07 0-2.86zM5.41 20L4 18.59l7.72-7.72 1.47 1.35L5.41 20z\"/>\n",
              "  </svg>\n",
              "      </button>\n",
              "      \n",
              "  <style>\n",
              "    .colab-df-container {\n",
              "      display:flex;\n",
              "      flex-wrap:wrap;\n",
              "      gap: 12px;\n",
              "    }\n",
              "\n",
              "    .colab-df-convert {\n",
              "      background-color: #E8F0FE;\n",
              "      border: none;\n",
              "      border-radius: 50%;\n",
              "      cursor: pointer;\n",
              "      display: none;\n",
              "      fill: #1967D2;\n",
              "      height: 32px;\n",
              "      padding: 0 0 0 0;\n",
              "      width: 32px;\n",
              "    }\n",
              "\n",
              "    .colab-df-convert:hover {\n",
              "      background-color: #E2EBFA;\n",
              "      box-shadow: 0px 1px 2px rgba(60, 64, 67, 0.3), 0px 1px 3px 1px rgba(60, 64, 67, 0.15);\n",
              "      fill: #174EA6;\n",
              "    }\n",
              "\n",
              "    [theme=dark] .colab-df-convert {\n",
              "      background-color: #3B4455;\n",
              "      fill: #D2E3FC;\n",
              "    }\n",
              "\n",
              "    [theme=dark] .colab-df-convert:hover {\n",
              "      background-color: #434B5C;\n",
              "      box-shadow: 0px 1px 3px 1px rgba(0, 0, 0, 0.15);\n",
              "      filter: drop-shadow(0px 1px 2px rgba(0, 0, 0, 0.3));\n",
              "      fill: #FFFFFF;\n",
              "    }\n",
              "  </style>\n",
              "\n",
              "      <script>\n",
              "        const buttonEl =\n",
              "          document.querySelector('#df-620fb83a-369f-414d-b2b9-c5aa66dc74b0 button.colab-df-convert');\n",
              "        buttonEl.style.display =\n",
              "          google.colab.kernel.accessAllowed ? 'block' : 'none';\n",
              "\n",
              "        async function convertToInteractive(key) {\n",
              "          const element = document.querySelector('#df-620fb83a-369f-414d-b2b9-c5aa66dc74b0');\n",
              "          const dataTable =\n",
              "            await google.colab.kernel.invokeFunction('convertToInteractive',\n",
              "                                                     [key], {});\n",
              "          if (!dataTable) return;\n",
              "\n",
              "          const docLinkHtml = 'Like what you see? Visit the ' +\n",
              "            '<a target=\"_blank\" href=https://colab.research.google.com/notebooks/data_table.ipynb>data table notebook</a>'\n",
              "            + ' to learn more about interactive tables.';\n",
              "          element.innerHTML = '';\n",
              "          dataTable['output_type'] = 'display_data';\n",
              "          await google.colab.output.renderOutput(dataTable, element);\n",
              "          const docLink = document.createElement('div');\n",
              "          docLink.innerHTML = docLinkHtml;\n",
              "          element.appendChild(docLink);\n",
              "        }\n",
              "      </script>\n",
              "    </div>\n",
              "  </div>\n",
              "  "
            ]
          },
          "metadata": {},
          "execution_count": 110
        }
      ]
    },
    {
      "cell_type": "code",
      "source": [
        "from keras.models import load_model\n",
        "from keras.preprocessing import image\n",
        "import glob\n",
        "\n",
        "def find_car(input_dir, output_cars =\"output.csv\"):\n",
        "  model = keras.models.load_model('./saved_model')\n",
        "  input_dir = input_dir\n",
        "  file_list = glob.glob(input_dir+\"/*\")\n",
        "  files = []\n",
        "\n",
        "  for file in file_list:\n",
        "    file_n = file.replace(\"\\\\\", \"/\").split('/')[-1]\n",
        "    files.append(file_n)\n",
        "\n",
        "  preds = []\n",
        "\n",
        "  for file in file_list:\n",
        "    img = image.load_img(file, target_size=(224, 224))\n",
        "    x = image.img_to_array(img)\n",
        "    x = np.expand_dims(x, axis=0)\n",
        "    pred = model.predict(x)\n",
        "    pred_b = tf.where(pred > 0.5, 1, 0)\n",
        "    preds.append(pred_b.numpy().ravel())\n",
        "  preds = np.array(preds).ravel()\n",
        "\n",
        "  output = pd.DataFrame({'file': files, 'pred': preds})\n",
        "  output['pred'] = output['pred'].astype(bool)\n",
        "  output.to_csv(output_cars, index=False, header=False)"
      ],
      "metadata": {
        "id": "-bZlVoio68WG"
      },
      "execution_count": null,
      "outputs": []
    },
    {
      "cell_type": "code",
      "source": [
        "find_car('./output')"
      ],
      "metadata": {
        "id": "BTSZSYtWMFHG"
      },
      "execution_count": null,
      "outputs": []
    }
  ]
}