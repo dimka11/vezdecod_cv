{
  "nbformat": 4,
  "nbformat_minor": 0,
  "metadata": {
    "colab": {
      "name": "detect stop signals.ipynb",
      "provenance": []
    },
    "kernelspec": {
      "name": "python3",
      "display_name": "Python 3"
    },
    "language_info": {
      "name": "python"
    },
    "accelerator": "GPU",
    "gpuClass": "standard"
  },
  "cells": [
    {
      "cell_type": "code",
      "execution_count": 3,
      "metadata": {
        "id": "E_FrvK-cjt1Z"
      },
      "outputs": [],
      "source": [
        "import numpy as np\n",
        "import pandas as pd\n",
        "import glob\n",
        "import os\n",
        "import shutil\n",
        "\n",
        "import matplotlib.pyplot as plt\n",
        "import PIL\n",
        "import tensorflow as tf\n",
        "\n",
        "from tensorflow import keras\n",
        "from tensorflow.keras import layers\n",
        "from tensorflow.keras.models import Sequential\n",
        "from keras.preprocessing.image import ImageDataGenerator\n",
        "import tensorflow_hub as hub"
      ]
    },
    {
      "cell_type": "code",
      "source": [
        "!cp /content/drive/MyDrive/model.zip  ."
      ],
      "metadata": {
        "id": "1KWHgq-5vhx7"
      },
      "execution_count": 1,
      "outputs": []
    },
    {
      "cell_type": "code",
      "source": [
        "!unzip --q ./model.zip"
      ],
      "metadata": {
        "colab": {
          "base_uri": "https://localhost:8080/"
        },
        "id": "vhdo5j3VvoP8",
        "outputId": "c06ef5fe-aba4-4e5f-b1c4-14bb36d196ed"
      },
      "execution_count": 4,
      "outputs": [
        {
          "output_type": "stream",
          "name": "stdout",
          "text": [
            "Archive:  ./model.zip\n",
            "   creating: saved_model_stop_signals/\n",
            "  inflating: saved_model_stop_signals/keras_metadata.pb  \n",
            "   creating: saved_model_stop_signals/variables/\n",
            "  inflating: saved_model_stop_signals/variables/variables.data-00000-of-00001  \n",
            "  inflating: saved_model_stop_signals/variables/variables.index  \n",
            "   creating: saved_model_stop_signals/assets/\n",
            "  inflating: saved_model_stop_signals/saved_model.pb  \n"
          ]
        }
      ]
    },
    {
      "cell_type": "code",
      "source": [
        "!unzip -qq /content/output_stop_signals.zip"
      ],
      "metadata": {
        "id": "au4HRbMgj8L4"
      },
      "execution_count": 5,
      "outputs": []
    },
    {
      "cell_type": "code",
      "source": [
        "# !mkdir ./output/0\n",
        "# !mkdir ./output/1\n",
        "# !mkdir ./output/2"
      ],
      "metadata": {
        "id": "YD-cvz_1nBtF"
      },
      "execution_count": null,
      "outputs": []
    },
    {
      "cell_type": "code",
      "source": [
        "train = pd.read_csv('./train.csv', header=None, names=['file', 'cls'])\n",
        "train.head(5)"
      ],
      "metadata": {
        "colab": {
          "base_uri": "https://localhost:8080/",
          "height": 206
        },
        "id": "wVivou6mnPzi",
        "outputId": "2fc3584f-0117-4d18-d8bd-4e1c524b7e7a"
      },
      "execution_count": null,
      "outputs": [
        {
          "output_type": "execute_result",
          "data": {
            "text/plain": [
              "        file      cls\n",
              "0  00001.jpg  no_cars\n",
              "1  00002.jpg      Off\n",
              "2  00003.jpg      Off\n",
              "3  00004.jpg       On\n",
              "4  00005.jpg      Off"
            ],
            "text/html": [
              "\n",
              "  <div id=\"df-eec1dc60-2e7e-48fa-965f-04e20d2f6ba3\">\n",
              "    <div class=\"colab-df-container\">\n",
              "      <div>\n",
              "<style scoped>\n",
              "    .dataframe tbody tr th:only-of-type {\n",
              "        vertical-align: middle;\n",
              "    }\n",
              "\n",
              "    .dataframe tbody tr th {\n",
              "        vertical-align: top;\n",
              "    }\n",
              "\n",
              "    .dataframe thead th {\n",
              "        text-align: right;\n",
              "    }\n",
              "</style>\n",
              "<table border=\"1\" class=\"dataframe\">\n",
              "  <thead>\n",
              "    <tr style=\"text-align: right;\">\n",
              "      <th></th>\n",
              "      <th>file</th>\n",
              "      <th>cls</th>\n",
              "    </tr>\n",
              "  </thead>\n",
              "  <tbody>\n",
              "    <tr>\n",
              "      <th>0</th>\n",
              "      <td>00001.jpg</td>\n",
              "      <td>no_cars</td>\n",
              "    </tr>\n",
              "    <tr>\n",
              "      <th>1</th>\n",
              "      <td>00002.jpg</td>\n",
              "      <td>Off</td>\n",
              "    </tr>\n",
              "    <tr>\n",
              "      <th>2</th>\n",
              "      <td>00003.jpg</td>\n",
              "      <td>Off</td>\n",
              "    </tr>\n",
              "    <tr>\n",
              "      <th>3</th>\n",
              "      <td>00004.jpg</td>\n",
              "      <td>On</td>\n",
              "    </tr>\n",
              "    <tr>\n",
              "      <th>4</th>\n",
              "      <td>00005.jpg</td>\n",
              "      <td>Off</td>\n",
              "    </tr>\n",
              "  </tbody>\n",
              "</table>\n",
              "</div>\n",
              "      <button class=\"colab-df-convert\" onclick=\"convertToInteractive('df-eec1dc60-2e7e-48fa-965f-04e20d2f6ba3')\"\n",
              "              title=\"Convert this dataframe to an interactive table.\"\n",
              "              style=\"display:none;\">\n",
              "        \n",
              "  <svg xmlns=\"http://www.w3.org/2000/svg\" height=\"24px\"viewBox=\"0 0 24 24\"\n",
              "       width=\"24px\">\n",
              "    <path d=\"M0 0h24v24H0V0z\" fill=\"none\"/>\n",
              "    <path d=\"M18.56 5.44l.94 2.06.94-2.06 2.06-.94-2.06-.94-.94-2.06-.94 2.06-2.06.94zm-11 1L8.5 8.5l.94-2.06 2.06-.94-2.06-.94L8.5 2.5l-.94 2.06-2.06.94zm10 10l.94 2.06.94-2.06 2.06-.94-2.06-.94-.94-2.06-.94 2.06-2.06.94z\"/><path d=\"M17.41 7.96l-1.37-1.37c-.4-.4-.92-.59-1.43-.59-.52 0-1.04.2-1.43.59L10.3 9.45l-7.72 7.72c-.78.78-.78 2.05 0 2.83L4 21.41c.39.39.9.59 1.41.59.51 0 1.02-.2 1.41-.59l7.78-7.78 2.81-2.81c.8-.78.8-2.07 0-2.86zM5.41 20L4 18.59l7.72-7.72 1.47 1.35L5.41 20z\"/>\n",
              "  </svg>\n",
              "      </button>\n",
              "      \n",
              "  <style>\n",
              "    .colab-df-container {\n",
              "      display:flex;\n",
              "      flex-wrap:wrap;\n",
              "      gap: 12px;\n",
              "    }\n",
              "\n",
              "    .colab-df-convert {\n",
              "      background-color: #E8F0FE;\n",
              "      border: none;\n",
              "      border-radius: 50%;\n",
              "      cursor: pointer;\n",
              "      display: none;\n",
              "      fill: #1967D2;\n",
              "      height: 32px;\n",
              "      padding: 0 0 0 0;\n",
              "      width: 32px;\n",
              "    }\n",
              "\n",
              "    .colab-df-convert:hover {\n",
              "      background-color: #E2EBFA;\n",
              "      box-shadow: 0px 1px 2px rgba(60, 64, 67, 0.3), 0px 1px 3px 1px rgba(60, 64, 67, 0.15);\n",
              "      fill: #174EA6;\n",
              "    }\n",
              "\n",
              "    [theme=dark] .colab-df-convert {\n",
              "      background-color: #3B4455;\n",
              "      fill: #D2E3FC;\n",
              "    }\n",
              "\n",
              "    [theme=dark] .colab-df-convert:hover {\n",
              "      background-color: #434B5C;\n",
              "      box-shadow: 0px 1px 3px 1px rgba(0, 0, 0, 0.15);\n",
              "      filter: drop-shadow(0px 1px 2px rgba(0, 0, 0, 0.3));\n",
              "      fill: #FFFFFF;\n",
              "    }\n",
              "  </style>\n",
              "\n",
              "      <script>\n",
              "        const buttonEl =\n",
              "          document.querySelector('#df-eec1dc60-2e7e-48fa-965f-04e20d2f6ba3 button.colab-df-convert');\n",
              "        buttonEl.style.display =\n",
              "          google.colab.kernel.accessAllowed ? 'block' : 'none';\n",
              "\n",
              "        async function convertToInteractive(key) {\n",
              "          const element = document.querySelector('#df-eec1dc60-2e7e-48fa-965f-04e20d2f6ba3');\n",
              "          const dataTable =\n",
              "            await google.colab.kernel.invokeFunction('convertToInteractive',\n",
              "                                                     [key], {});\n",
              "          if (!dataTable) return;\n",
              "\n",
              "          const docLinkHtml = 'Like what you see? Visit the ' +\n",
              "            '<a target=\"_blank\" href=https://colab.research.google.com/notebooks/data_table.ipynb>data table notebook</a>'\n",
              "            + ' to learn more about interactive tables.';\n",
              "          element.innerHTML = '';\n",
              "          dataTable['output_type'] = 'display_data';\n",
              "          await google.colab.output.renderOutput(dataTable, element);\n",
              "          const docLink = document.createElement('div');\n",
              "          docLink.innerHTML = docLinkHtml;\n",
              "          element.appendChild(docLink);\n",
              "        }\n",
              "      </script>\n",
              "    </div>\n",
              "  </div>\n",
              "  "
            ]
          },
          "metadata": {},
          "execution_count": 4
        }
      ]
    },
    {
      "cell_type": "code",
      "source": [
        "for i, row in train.iterrows():\n",
        "  if row['cls'] == 'no_cars':\n",
        "    shutil.copy('./output/'+ row['file'], './output/0')\n",
        "  if row['cls'] == 'Off':\n",
        "    shutil.copy('./output/'+ row['file'], './output/1')\n",
        "  if row['cls'] == 'On':\n",
        "    shutil.copy('./output/'+ row['file'], './output/2')"
      ],
      "metadata": {
        "id": "dJIPACzanJgL"
      },
      "execution_count": null,
      "outputs": []
    },
    {
      "cell_type": "code",
      "source": [
        "inception_v3 = \"https://tfhub.dev/google/tf2-preview/inception_v3/feature_vector/4\"\n",
        "feature_extractor_model = inception_v3\n",
        "\n",
        "feature_extractor_layer = hub.KerasLayer(\n",
        "    feature_extractor_model,\n",
        "    input_shape=(224, 224, 3),\n",
        "    trainable=False)\n",
        "\n",
        "model = tf.keras.Sequential([\n",
        "  feature_extractor_layer,\n",
        "  tf.keras.layers.Dense(128, activation='relu'),\n",
        "  tf.keras.layers.Dense(3, activation='softmax')\n",
        "])\n",
        "\n",
        "model.summary()"
      ],
      "metadata": {
        "colab": {
          "base_uri": "https://localhost:8080/"
        },
        "id": "BTsterR9nnuU",
        "outputId": "170aa5a2-8446-4f66-a02b-f75f6c8b1b5e"
      },
      "execution_count": null,
      "outputs": [
        {
          "output_type": "stream",
          "name": "stdout",
          "text": [
            "Model: \"sequential\"\n",
            "_________________________________________________________________\n",
            " Layer (type)                Output Shape              Param #   \n",
            "=================================================================\n",
            " keras_layer (KerasLayer)    (None, 2048)              21802784  \n",
            "                                                                 \n",
            " dense (Dense)               (None, 128)               262272    \n",
            "                                                                 \n",
            " dense_1 (Dense)             (None, 3)                 387       \n",
            "                                                                 \n",
            "=================================================================\n",
            "Total params: 22,065,443\n",
            "Trainable params: 262,659\n",
            "Non-trainable params: 21,802,784\n",
            "_________________________________________________________________\n"
          ]
        }
      ]
    },
    {
      "cell_type": "code",
      "source": [
        "model.compile(\n",
        "  optimizer=tf.keras.optimizers.Adam(),\n",
        "  loss=tf.keras.losses.SparseCategoricalCrossentropy(from_logits=False),\n",
        "  metrics=['acc'])"
      ],
      "metadata": {
        "id": "__bkc1xvnwcx"
      },
      "execution_count": null,
      "outputs": []
    },
    {
      "cell_type": "code",
      "source": [
        "data_dir = './output'\n",
        "batch_size = 32\n",
        "train_ds = tf.keras.utils.image_dataset_from_directory(\n",
        "  data_dir,\n",
        "  seed=123,\n",
        "  image_size=(224, 224),\n",
        "  batch_size=batch_size)\n",
        "\n",
        "class_names = train_ds.class_names\n",
        "class_names\n",
        "\n",
        "AUTOTUNE = tf.data.AUTOTUNE\n",
        "train_ds = train_ds.cache().shuffle(1000).prefetch(buffer_size=AUTOTUNE)"
      ],
      "metadata": {
        "colab": {
          "base_uri": "https://localhost:8080/"
        },
        "id": "wbf_rWkun0wI",
        "outputId": "946acdf7-f989-4578-8095-fa89e9b643e8"
      },
      "execution_count": null,
      "outputs": [
        {
          "output_type": "stream",
          "name": "stdout",
          "text": [
            "Found 100 files belonging to 3 classes.\n"
          ]
        }
      ]
    },
    {
      "cell_type": "code",
      "source": [
        "NUM_EPOCHS = 10\n",
        "history = model.fit(train_ds, epochs=NUM_EPOCHS)"
      ],
      "metadata": {
        "colab": {
          "base_uri": "https://localhost:8080/"
        },
        "id": "onK7eD4bn9Q_",
        "outputId": "7ff36822-a5fc-4868-eb68-1032c3f0d08b"
      },
      "execution_count": null,
      "outputs": [
        {
          "output_type": "stream",
          "name": "stdout",
          "text": [
            "Epoch 1/10\n",
            "4/4 [==============================] - 0s 92ms/step - loss: 0.3923 - acc: 0.9000\n",
            "Epoch 2/10\n",
            "4/4 [==============================] - 0s 52ms/step - loss: 0.8278 - acc: 0.7700\n",
            "Epoch 3/10\n",
            "4/4 [==============================] - 0s 53ms/step - loss: 0.4672 - acc: 0.8600\n",
            "Epoch 4/10\n",
            "4/4 [==============================] - 0s 68ms/step - loss: 0.1649 - acc: 0.9300\n",
            "Epoch 5/10\n",
            "4/4 [==============================] - 0s 54ms/step - loss: 0.2569 - acc: 0.8700\n",
            "Epoch 6/10\n",
            "4/4 [==============================] - 0s 54ms/step - loss: 0.1534 - acc: 0.9400\n",
            "Epoch 7/10\n",
            "4/4 [==============================] - 0s 55ms/step - loss: 0.0423 - acc: 0.9900\n",
            "Epoch 8/10\n",
            "4/4 [==============================] - 0s 58ms/step - loss: 0.0498 - acc: 0.9800\n",
            "Epoch 9/10\n",
            "4/4 [==============================] - 0s 73ms/step - loss: 0.0350 - acc: 0.9900\n",
            "Epoch 10/10\n",
            "4/4 [==============================] - 0s 56ms/step - loss: 0.0012 - acc: 1.0000\n"
          ]
        }
      ]
    },
    {
      "cell_type": "code",
      "source": [
        "model.save('./saved_model_stop_signals')\n",
        "!zip -r model.zip ./saved_model_stop_signals"
      ],
      "metadata": {
        "colab": {
          "base_uri": "https://localhost:8080/"
        },
        "id": "2AmK5GMNn_6N",
        "outputId": "172a7503-1bd6-4a8d-9c7c-2f62f4e46d25"
      },
      "execution_count": null,
      "outputs": [
        {
          "output_type": "stream",
          "name": "stdout",
          "text": [
            "INFO:tensorflow:Assets written to: ./saved_model_stop_signals/assets\n"
          ]
        },
        {
          "output_type": "stream",
          "name": "stderr",
          "text": [
            "INFO:tensorflow:Assets written to: ./saved_model_stop_signals/assets\n"
          ]
        },
        {
          "output_type": "stream",
          "name": "stdout",
          "text": [
            "  adding: saved_model_stop_signals/ (stored 0%)\n",
            "  adding: saved_model_stop_signals/keras_metadata.pb (deflated 84%)\n",
            "  adding: saved_model_stop_signals/variables/ (stored 0%)\n",
            "  adding: saved_model_stop_signals/variables/variables.data-00000-of-00001 (deflated 7%)\n",
            "  adding: saved_model_stop_signals/variables/variables.index (deflated 81%)\n",
            "  adding: saved_model_stop_signals/assets/ (stored 0%)\n",
            "  adding: saved_model_stop_signals/saved_model.pb (deflated 93%)\n"
          ]
        }
      ]
    },
    {
      "cell_type": "code",
      "source": [
        "import glob\n",
        "import numpy as np\n",
        "import pandas as pd\n",
        "import tensorflow as tf\n",
        "\n",
        "from keras.models import load_model\n",
        "from keras.preprocessing import image\n",
        "from tensorflow import keras\n",
        "\n",
        "def check_stop_signals(input_dir, output_file=\"output_color.csv\"):\n",
        "  model = keras.models.load_model('/content/saved_model_stop_signals')\n",
        "  input_dir = input_dir\n",
        "  file_list = glob.glob(input_dir+\"/*\")\n",
        "  files = []\n",
        "  preds = []\n",
        "\n",
        "  for file in file_list:\n",
        "    file_n = file.replace(\"\\\\\", \"/\").split('/')[-1]\n",
        "    files.append(file_n)\n",
        "\n",
        "  for file in file_list:\n",
        "    img = image.load_img(file, target_size=(224, 224))\n",
        "    x = image.img_to_array(img)\n",
        "    x = np.expand_dims(x, axis=0)\n",
        "    pred = model.predict(x)\n",
        "    pred_c = tf.argmax(pred, axis=1)\n",
        "    preds.append(pred_c.numpy().ravel())\n",
        "  \n",
        "  preds = np.array(preds).ravel()\n",
        "  output = pd.DataFrame({'file': files, 'pred': preds})\n",
        "  output['pred'] = output['pred'].replace({0: 'no_cars', 1:'Off', 2:'On'})\n",
        "  output.to_csv(output_file, index=False, header=False)\n",
        "  return output"
      ],
      "metadata": {
        "id": "1gFcUV1hoKi_"
      },
      "execution_count": 26,
      "outputs": []
    },
    {
      "cell_type": "code",
      "source": [
        ""
      ],
      "metadata": {
        "id": "P_p3AyAwyyyu"
      },
      "execution_count": null,
      "outputs": []
    }
  ]
}