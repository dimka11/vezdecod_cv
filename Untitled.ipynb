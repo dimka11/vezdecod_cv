{
 "cells": [
  {
   "cell_type": "code",
   "execution_count": 1,
   "metadata": {},
   "outputs": [],
   "source": [
    "import cv2\n",
    "import numpy as np\n",
    "import pandas as pd\n",
    "import glob"
   ]
  },
  {
   "cell_type": "code",
   "execution_count": 2,
   "metadata": {},
   "outputs": [],
   "source": [
    "description = pd.read_csv('./datasets/python_split_image_by_ch/description.csv')\n",
    "description.head(10)\n",
    "input_dir = './datasets/python_split_image_by_ch/data'\n",
    "output_dir = './datasets/output'"
   ]
  },
  {
   "cell_type": "code",
   "execution_count": 33,
   "metadata": {},
   "outputs": [],
   "source": [
    "files_list = glob.glob(input_dir+'/*')\n",
    "files_list = sorted(files_list)\n",
    "files_list_set = set()\n",
    "for file in files_list:\n",
    "    files_list_set.add(file.replace('_b.jpg', '').replace('_g.jpg', '').replace('_r.jpg', ''))"
   ]
  },
  {
   "cell_type": "code",
   "execution_count": 42,
   "metadata": {},
   "outputs": [],
   "source": [
    "for file in files_list_set:\n",
    "    file_name = file.replace(\"\\\\\", \"/\").split('/')[-1]+'.jpg'\n",
    "    b = cv2.imread(file+'_b.jpg', cv2.IMREAD_UNCHANGED)\n",
    "    g = cv2.imread(file+'_g.jpg', cv2.IMREAD_UNCHANGED)\n",
    "    r = cv2.imread(file+'_r.jpg',cv2.IMREAD_UNCHANGED)\n",
    "    \n",
    "#     print(b.shape, g.shape, r.shape)\n",
    "    \n",
    "    bgr = cv2.merge([b, g, r])\n",
    "    cv2.imwrite(output_dir+'/'+file_name)"
   ]
  },
  {
   "cell_type": "code",
   "execution_count": 43,
   "metadata": {},
   "outputs": [],
   "source": [
    "def merge_channels(input_dir, output_dir):\n",
    "    files_list = glob.glob(input_dir+'/*')\n",
    "    files_list = sorted(files_list)\n",
    "    files_list_set = set()\n",
    "    for file in files_list:\n",
    "        files_list_set.add(file.replace('_b.jpg', '').replace('_g.jpg', '').replace('_r.jpg', ''))\n",
    "        \n",
    "    for file in files_list_set:\n",
    "        file_name = file.replace(\"\\\\\", \"/\").split('/')[-1]+'.jpg'\n",
    "        b = cv2.imread(file+'_b.jpg', cv2.IMREAD_UNCHANGED)\n",
    "        g = cv2.imread(file+'_g.jpg', cv2.IMREAD_UNCHANGED)\n",
    "        r = cv2.imread(file+'_r.jpg',cv2.IMREAD_UNCHANGED)\n",
    "\n",
    "        #     print(b.shape, g.shape, r.shape)\n",
    "\n",
    "        bgr = cv2.merge([b, g, r])\n",
    "        cv2.imwrite(output_dir+'/'+file_name, bgr)"
   ]
  },
  {
   "cell_type": "code",
   "execution_count": 44,
   "metadata": {},
   "outputs": [],
   "source": [
    "merge_channels('./datasets/python_split_image_by_ch/data', './datasets/output')"
   ]
  },
  {
   "cell_type": "code",
   "execution_count": 19,
   "metadata": {},
   "outputs": [
    {
     "data": {
      "text/plain": [
       "'00001'"
      ]
     },
     "execution_count": 19,
     "metadata": {},
     "output_type": "execute_result"
    }
   ],
   "source": []
  },
  {
   "cell_type": "code",
   "execution_count": null,
   "metadata": {},
   "outputs": [],
   "source": []
  }
 ],
 "metadata": {
  "kernelspec": {
   "display_name": "Python 3",
   "language": "python",
   "name": "python3"
  },
  "language_info": {
   "codemirror_mode": {
    "name": "ipython",
    "version": 3
   },
   "file_extension": ".py",
   "mimetype": "text/x-python",
   "name": "python",
   "nbconvert_exporter": "python",
   "pygments_lexer": "ipython3",
   "version": "3.6.8"
  }
 },
 "nbformat": 4,
 "nbformat_minor": 2
}
